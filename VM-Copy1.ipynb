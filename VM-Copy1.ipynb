{
 "cells": [
  {
   "cell_type": "markdown",
   "metadata": {},
   "source": [
    "# Vicsek Model\n",
    "###### Rebecca Crossley(1708811), Yulin Zhang, Shancheng Wang & Katy Fellingham"
   ]
  },
  {
   "attachments": {},
   "cell_type": "markdown",
   "metadata": {},
   "source": [
    "This research concerns models of flocking in birds, as initially proposed by Tamas Vicsek in ____. \n",
    "\n",
    "In this, we model each bird as a weightless point particle moving with an initial constant velocity of $v_0$ along a polar direction $\\hat{n}=(cos \\theta,sin \\theta)$. Then, in order to create a swarming behaviour, the birds check in at each discrete time step with all of its neighbours within a radius $R$ and reorientate themselves along the mean direction of all birds within the region. Since birds are imperfect creatures, we take account for this by including a random normally distributed noise term, $\\eta_i$, with mean 0 and variance $\\sigma$.\n",
    "\n",
    "In 2D, we can define the equations of motion of bird $i$ at time $t+1$ by: $$\\vec{r_i}(t+1)=\\vec{r_i}(t)+\\hat{n}_i v_o$$ $$\\theta_i(t+1)=\\sum_{j=1}^{z_i}{\\hat{n}_j}+\\eta_i$$ where $z_i$ is the total number of neighbours within radius $R$."
   ]
  },
  {
   "cell_type": "markdown",
   "metadata": {},
   "source": [
    "Below are the functions required to produce visual demonstrations of this swarming behaviour. "
   ]
  },
  {
   "cell_type": "code",
   "execution_count": 6,
   "metadata": {},
   "outputs": [],
   "source": [
    "import matplotlib.pyplot as plt\n",
    "plt.style.use('ggplot')\n",
    "import numpy as np\n",
    "from scipy import stats\n",
    "from scipy import spatial\n",
    "\n",
    "# calculate the distance between p1 and p2 under boundary conditions\n",
    "# dr = (dx,dy) ?????????????????????????????query how knowsn?\n",
    "def cal_bc_distance(dr):\n",
    "    t1 = 0\n",
    "    t2 = 0\n",
    "    dx = dr[0]\n",
    "    dy = dr[1]\n",
    "    if dx > L/2:\n",
    "        t1 = -L\n",
    "    elif dx < -L/2:\n",
    "        t1 = L\n",
    "    if dy > L/2:\n",
    "        t2 = -L\n",
    "    elif dy < -L/2:\n",
    "        t2 = L    \n",
    "    return np.sqrt((dx + t1)**2+(dy + t2)**2)\n",
    "\n",
    "# return the distance matrix(N*N) calculated from birds positions\n",
    "def cal_pdist(birds_pos):\n",
    "    N=len(birds_pos)\n",
    "    Dist = np.zeros((N,N))\n",
    "    for i in range(1,N):\n",
    "        for j in range(i):\n",
    "            Dist[i,j] = Dist[j,i] = cal_bc_distance(birds_pos[j,:]-birds_pos[i,:])\n",
    "    return Dist\n",
    "\n",
    "# initialize the state of birds\n",
    "def initialize(L,N):\n",
    "    state = np.zeros((N,3))\n",
    "    state[:,:2] = np.random.uniform(0,L,(N,2))# positions x,y\n",
    "    state[:,2] = np.random.uniform(0,2*np.pi,N) # angles theta\n",
    "    return state\n",
    "\n",
    "# update the state of birds in each time step\n",
    "def update(state, L, v0, R, eta): \n",
    "    N=len(state)\n",
    "    # Initialise heading with noise\n",
    "    heading = eta\n",
    "    \n",
    "    # Use adjacency matrix to determine neighbours\n",
    "    A = cal_pdist(state[:,:2])\n",
    "    for i in range(N):\n",
    "        adj = np.where(A[i,:] < R)[0] # indices of adjacent particles\n",
    "        theta = state[adj,2] # angles of all adjacent particles\n",
    "        \n",
    "        # Sum sin and cos of angles\n",
    "        sum_sin = np.sum(np.sin(theta))\n",
    "        sum_cos = np.sum(np.cos(theta))\n",
    "        \n",
    "        # Compute heading for this particle\n",
    "        heading[i] += np.arctan2(sum_sin, sum_cos)\n",
    "        \n",
    "    # Update state with new headings\n",
    "    state[:,2] = heading \n",
    "    # Update positions(mod L)\n",
    "    state[:,0] = (state[:,0] + v0*np.cos(state[:,2]))%L\n",
    "    state[:,1] = (state[:,1] + v0*np.sin(state[:,2]))%L\n",
    "    return state\n",
    "\n",
    "def order_para(state):\n",
    "    N = len(state)\n",
    "    x = np.sum(np.cos(state[:,2]))\n",
    "    y = np.sum(np.sin(state[:,2]))\n",
    "    order_para = np.sqrt(x**2+y**2)/N\n",
    "    return order_para\n"
   ]
  },
  {
   "cell_type": "markdown",
   "metadata": {},
   "source": [
    "For 200 birds in a 15 x 15 container, we get the following:"
   ]
  },
  {
   "cell_type": "code",
   "execution_count": null,
   "metadata": {},
   "outputs": [
    {
     "data": {
      "image/png": "[encoded data removed]",
      "text/plain": [
       "<Figure size 432x1728 with 1 Axes>"
      ]
     },
     "metadata": {},
     "output_type": "display_data"
    }
   ],
   "source": [
    "N = 200  # number of individual birds\n",
    "L = 15   # size of the container(L*L)\n",
    "v0 = 0.5  # the constant velocity of the birds per time step\n",
    "R = 1 # radius within which to search for neighbours\n",
    "sigma = 0.01  # variance of noise\n",
    "T = 10000  # total time steps\n",
    "Noise_generator = stats.norm(0,sigma)\n",
    "opara = np.zeros(T) # the Vicsek order parameter\n",
    "plt.figure(figsize=(6,24))\n",
    "\n",
    "state = initialize(L,N)\n",
    "for t in range(T):\n",
    "    eta = Noise_generator.rvs(N) # noise term\n",
    "    state = update(state, L, v0, R, eta)\n",
    "    opara[t] = order_para(state)\n",
    "    #plot tests at 999,3999,6999,9999\n",
    "    i = 1\n",
    "    if (t-999)%3000 == 0:\n",
    "        plt.subplot(4,1,i)\n",
    "        i += 1\n",
    "        plt.quiver(state[:,0],state[:,1],np.cos(state[:,2]),np.sin(state[:,2]),np.arange(N)) \n",
    "        plt.xlim(0,15)\n",
    "        plt.ylim(0,15)\n",
    "        plt.show()"
   ]
  },
  {
   "cell_type": "markdown",
   "metadata": {},
   "source": [
    "Now for $T=10,000$ steps, we plot the Vicsek order paramater (as calculated in the above cell) against the time. "
   ]
  },
  {
   "cell_type": "code",
   "execution_count": null,
   "metadata": {},
   "outputs": [],
   "source": [
    "plt.figure(figsize=(3,5))\n",
    "plt.plot(np.arange(T),opara,'b')    \n",
    "plt.show()"
   ]
  },
  {
   "cell_type": "markdown",
   "metadata": {},
   "source": [
    "We use these images as produced above at a variety of time steps to create an animation of the birds' motion for 1000 steps. "
   ]
  },
  {
   "cell_type": "code",
   "execution_count": null,
   "metadata": {},
   "outputs": [],
   "source": [
    "for t in range(T):\n",
    "    eta = Noise_generator.rvs(N) # noise term\n",
    "    state = update(state, L, v0, R, eta)\n",
    "    #opara[t] = order_para(state,N)\n",
    "    fig = plt.figure()\n",
    "    ax = plt.subplot(111)\n",
    "    ax.quiver(state[:,0],state[:,1],np.cos(state[:,2]),np.sin(state[:,2]),np.arange(N)) \n",
    "    ax.set_xlim(0,15)\n",
    "    ax.set_ylim(0,15)\n",
    "    fig.savefig('pics/{}.png'.format(t))\n",
    "    plt.close(fig)"
   ]
  },
  {
   "cell_type": "code",
   "execution_count": null,
   "metadata": {},
   "outputs": [],
   "source": [
    "# make a video\n",
    "import cv2\n",
    "import numpy as np\n",
    "\n",
    "T = 1000\n",
    "img_array = []\n",
    "for i in range(T):\n",
    "    #img = cv2.imread(filename)\n",
    "    img = cv2.imread('pics/{}.png'.format(i))\n",
    "    height, width, layers = img.shape\n",
    "    size = (width,height)\n",
    "    img_array.append(img)\n",
    "\n",
    " \n",
    " \n",
    "out = cv2.VideoWriter('project.mp4',cv2.VideoWriter_fourcc(*'FMP4'), 12, size)\n",
    " \n",
    "for i in range(len(img_array)):\n",
    "    out.write(img_array[i])\n",
    "out.release()"
   ]
  },
  {
   "cell_type": "code",
   "execution_count": 7,
   "metadata": {},
   "outputs": [
    {
     "name": "stdout",
     "output_type": "stream",
     "text": [
      "2.06 s ± 81.8 ms per loop (mean ± std. dev. of 7 runs, 1 loop each)\n"
     ]
    }
   ],
   "source": [
    "%timeit main(L,N,10)"
   ]
  },
  {
   "cell_type": "markdown",
   "metadata": {},
   "source": []
  },
  {
   "cell_type": "code",
   "execution_count": 6,
   "metadata": {},
   "outputs": [],
   "source": [
    "N = 200  # number of individual birds\n",
    "L = 15   # size of the container(L*L)\n",
    "v0 = 0.5  # the constant velocity of the birds per time step\n",
    "R = 1 # radius within which to search for neighbours\n",
    "sigma = 0.01  # variance of noise\n",
    "T = 10000  # total time steps\n",
    "Noise_generator = stats.norm(0,sigma)\n",
    "opara = np.zeros(T) # the Vicsek order parame\n",
    "\n",
    "import os\n",
    "\n",
    "def createFolder(directory):\n",
    "    try:\n",
    "        if not os.path.exists(directory):\n",
    "            os.makedirs(directory)\n",
    "    except OSError:\n",
    "        print ('Error: Creating directory. ' +  directory)\n",
    "        \n",
    "\n",
    "\n",
    "def main(L,N,T):\n",
    "    state = initialize(L,N)\n",
    "    createFolder('./pics/')\n",
    "    for t in range(T):\n",
    "        eta = Noise_generator.rvs(N) # noise term\n",
    "        state = update(state, L, N, v0, R, eta)\n",
    "        #opara[t] = order_para(state,N)\n",
    "        fig = plt.figure()\n",
    "        ax = plt.subplot(111)\n",
    "        ax.quiver(state[:,0],state[:,1],np.cos(state[:,2]),np.sin(state[:,2]),np.arange(N)) \n",
    "        ax.set_xlim(0,15)\n",
    "        ax.set_ylim(0,15)\n",
    "        fig.savefig('pics/{}.png'.format(t))\n",
    "        plt.close(fig)"
   ]
  },
  {
   "cell_type": "code",
   "execution_count": null,
   "metadata": {},
   "outputs": [],
   "source": [
    "import pandas as pd\n",
    "df = pd.DataFrame(data=data[0:,0:],\n",
    "      ...        index=[i for i in range(data.shape[0])],\n",
    "      ...        columns=['f'+str(i) for i in range(data.shape[1])])"
   ]
  },
  {
   "cell_type": "code",
   "execution_count": 17,
   "metadata": {},
   "outputs": [
    {
     "ename": "ValueError",
     "evalue": "Shape of passed values is (500, 20), indices imply (500, 10)",
     "output_type": "error",
     "traceback": [
      "\u001b[0;31m---------------------------------------------------------------------------\u001b[0m",
      "\u001b[0;31mValueError\u001b[0m                                Traceback (most recent call last)",
      "\u001b[0;32m~/Applications/anaconda3/lib/python3.7/site-packages/pandas/core/internals/managers.py\u001b[0m in \u001b[0;36mcreate_block_manager_from_blocks\u001b[0;34m(blocks, axes)\u001b[0m\n\u001b[1;32m   1653\u001b[0m                 blocks = [\n\u001b[0;32m-> 1654\u001b[0;31m                     \u001b[0mmake_block\u001b[0m\u001b[0;34m(\u001b[0m\u001b[0mvalues\u001b[0m\u001b[0;34m=\u001b[0m\u001b[0mblocks\u001b[0m\u001b[0;34m[\u001b[0m\u001b[0;36m0\u001b[0m\u001b[0;34m]\u001b[0m\u001b[0;34m,\u001b[0m \u001b[0mplacement\u001b[0m\u001b[0;34m=\u001b[0m\u001b[0mslice\u001b[0m\u001b[0;34m(\u001b[0m\u001b[0;36m0\u001b[0m\u001b[0;34m,\u001b[0m \u001b[0mlen\u001b[0m\u001b[0;34m(\u001b[0m\u001b[0maxes\u001b[0m\u001b[0;34m[\u001b[0m\u001b[0;36m0\u001b[0m\u001b[0;34m]\u001b[0m\u001b[0;34m)\u001b[0m\u001b[0;34m)\u001b[0m\u001b[0;34m)\u001b[0m\u001b[0;34m\u001b[0m\u001b[0;34m\u001b[0m\u001b[0m\n\u001b[0m\u001b[1;32m   1655\u001b[0m                 ]\n",
      "\u001b[0;32m~/Applications/anaconda3/lib/python3.7/site-packages/pandas/core/internals/blocks.py\u001b[0m in \u001b[0;36mmake_block\u001b[0;34m(values, placement, klass, ndim, dtype)\u001b[0m\n\u001b[1;32m   3040\u001b[0m \u001b[0;34m\u001b[0m\u001b[0m\n\u001b[0;32m-> 3041\u001b[0;31m     \u001b[0;32mreturn\u001b[0m \u001b[0mklass\u001b[0m\u001b[0;34m(\u001b[0m\u001b[0mvalues\u001b[0m\u001b[0;34m,\u001b[0m \u001b[0mndim\u001b[0m\u001b[0;34m=\u001b[0m\u001b[0mndim\u001b[0m\u001b[0;34m,\u001b[0m \u001b[0mplacement\u001b[0m\u001b[0;34m=\u001b[0m\u001b[0mplacement\u001b[0m\u001b[0;34m)\u001b[0m\u001b[0;34m\u001b[0m\u001b[0;34m\u001b[0m\u001b[0m\n\u001b[0m\u001b[1;32m   3042\u001b[0m \u001b[0;34m\u001b[0m\u001b[0m\n",
      "\u001b[0;32m~/Applications/anaconda3/lib/python3.7/site-packages/pandas/core/internals/blocks.py\u001b[0m in \u001b[0;36m__init__\u001b[0;34m(self, values, placement, ndim)\u001b[0m\n\u001b[1;32m    124\u001b[0m             raise ValueError(\n\u001b[0;32m--> 125\u001b[0;31m                 \u001b[0;34mf\"Wrong number of items passed {len(self.values)}, \"\u001b[0m\u001b[0;34m\u001b[0m\u001b[0;34m\u001b[0m\u001b[0m\n\u001b[0m\u001b[1;32m    126\u001b[0m                 \u001b[0;34mf\"placement implies {len(self.mgr_locs)}\"\u001b[0m\u001b[0;34m\u001b[0m\u001b[0;34m\u001b[0m\u001b[0m\n",
      "\u001b[0;31mValueError\u001b[0m: Wrong number of items passed 20, placement implies 10",
      "\nDuring handling of the above exception, another exception occurred:\n",
      "\u001b[0;31mValueError\u001b[0m                                Traceback (most recent call last)",
      "\u001b[0;32m<ipython-input-17-4c8037b0aadd>\u001b[0m in \u001b[0;36m<module>\u001b[0;34m\u001b[0m\n\u001b[1;32m     25\u001b[0m \u001b[0;34m\u001b[0m\u001b[0m\n\u001b[1;32m     26\u001b[0m \u001b[0;32mimport\u001b[0m \u001b[0mpandas\u001b[0m \u001b[0;32mas\u001b[0m \u001b[0mpd\u001b[0m\u001b[0;34m\u001b[0m\u001b[0;34m\u001b[0m\u001b[0m\n\u001b[0;32m---> 27\u001b[0;31m \u001b[0mdf\u001b[0m \u001b[0;34m=\u001b[0m \u001b[0mpd\u001b[0m\u001b[0;34m.\u001b[0m\u001b[0mDataFrame\u001b[0m\u001b[0;34m(\u001b[0m\u001b[0mdata\u001b[0m\u001b[0;34m=\u001b[0m\u001b[0mres\u001b[0m\u001b[0;34m,\u001b[0m\u001b[0mindex\u001b[0m\u001b[0;34m=\u001b[0m\u001b[0;34m[\u001b[0m\u001b[0mi\u001b[0m\u001b[0;34m+\u001b[0m\u001b[0;36m1\u001b[0m \u001b[0;32mfor\u001b[0m \u001b[0mi\u001b[0m \u001b[0;32min\u001b[0m \u001b[0mrange\u001b[0m\u001b[0;34m(\u001b[0m\u001b[0mres\u001b[0m\u001b[0;34m.\u001b[0m\u001b[0mshape\u001b[0m\u001b[0;34m[\u001b[0m\u001b[0;36m0\u001b[0m\u001b[0;34m]\u001b[0m\u001b[0;34m)\u001b[0m\u001b[0;34m]\u001b[0m\u001b[0;34m,\u001b[0m\u001b[0mcolumns\u001b[0m\u001b[0;34m=\u001b[0m\u001b[0;34m[\u001b[0m\u001b[0mstr\u001b[0m\u001b[0;34m(\u001b[0m\u001b[0msigma\u001b[0m\u001b[0;34m)\u001b[0m \u001b[0;32mfor\u001b[0m \u001b[0msigma\u001b[0m \u001b[0;32min\u001b[0m \u001b[0mnp\u001b[0m\u001b[0;34m.\u001b[0m\u001b[0mlinspace\u001b[0m\u001b[0;34m(\u001b[0m\u001b[0;36m0\u001b[0m\u001b[0;34m,\u001b[0m\u001b[0;36m0.6\u001b[0m\u001b[0;34m,\u001b[0m\u001b[0;36m10\u001b[0m\u001b[0;34m)\u001b[0m\u001b[0;34m]\u001b[0m\u001b[0;34m)\u001b[0m\u001b[0;34m\u001b[0m\u001b[0;34m\u001b[0m\u001b[0m\n\u001b[0m\u001b[1;32m     28\u001b[0m \u001b[0mdf\u001b[0m\u001b[0;34m.\u001b[0m\u001b[0mto_csv\u001b[0m\u001b[0;34m(\u001b[0m\u001b[0;34m'n_sigma.csv'\u001b[0m\u001b[0;34m)\u001b[0m\u001b[0;34m\u001b[0m\u001b[0;34m\u001b[0m\u001b[0m\n",
      "\u001b[0;32m~/Applications/anaconda3/lib/python3.7/site-packages/pandas/core/frame.py\u001b[0m in \u001b[0;36m__init__\u001b[0;34m(self, data, index, columns, dtype, copy)\u001b[0m\n\u001b[1;32m    462\u001b[0m                 \u001b[0mmgr\u001b[0m \u001b[0;34m=\u001b[0m \u001b[0minit_dict\u001b[0m\u001b[0;34m(\u001b[0m\u001b[0;34m{\u001b[0m\u001b[0mdata\u001b[0m\u001b[0;34m.\u001b[0m\u001b[0mname\u001b[0m\u001b[0;34m:\u001b[0m \u001b[0mdata\u001b[0m\u001b[0;34m}\u001b[0m\u001b[0;34m,\u001b[0m \u001b[0mindex\u001b[0m\u001b[0;34m,\u001b[0m \u001b[0mcolumns\u001b[0m\u001b[0;34m,\u001b[0m \u001b[0mdtype\u001b[0m\u001b[0;34m=\u001b[0m\u001b[0mdtype\u001b[0m\u001b[0;34m)\u001b[0m\u001b[0;34m\u001b[0m\u001b[0;34m\u001b[0m\u001b[0m\n\u001b[1;32m    463\u001b[0m             \u001b[0;32melse\u001b[0m\u001b[0;34m:\u001b[0m\u001b[0;34m\u001b[0m\u001b[0;34m\u001b[0m\u001b[0m\n\u001b[0;32m--> 464\u001b[0;31m                 \u001b[0mmgr\u001b[0m \u001b[0;34m=\u001b[0m \u001b[0minit_ndarray\u001b[0m\u001b[0;34m(\u001b[0m\u001b[0mdata\u001b[0m\u001b[0;34m,\u001b[0m \u001b[0mindex\u001b[0m\u001b[0;34m,\u001b[0m \u001b[0mcolumns\u001b[0m\u001b[0;34m,\u001b[0m \u001b[0mdtype\u001b[0m\u001b[0;34m=\u001b[0m\u001b[0mdtype\u001b[0m\u001b[0;34m,\u001b[0m \u001b[0mcopy\u001b[0m\u001b[0;34m=\u001b[0m\u001b[0mcopy\u001b[0m\u001b[0;34m)\u001b[0m\u001b[0;34m\u001b[0m\u001b[0;34m\u001b[0m\u001b[0m\n\u001b[0m\u001b[1;32m    465\u001b[0m \u001b[0;34m\u001b[0m\u001b[0m\n\u001b[1;32m    466\u001b[0m         \u001b[0;31m# For data is list-like, or Iterable (will consume into list)\u001b[0m\u001b[0;34m\u001b[0m\u001b[0;34m\u001b[0m\u001b[0;34m\u001b[0m\u001b[0m\n",
      "\u001b[0;32m~/Applications/anaconda3/lib/python3.7/site-packages/pandas/core/internals/construction.py\u001b[0m in \u001b[0;36minit_ndarray\u001b[0;34m(values, index, columns, dtype, copy)\u001b[0m\n\u001b[1;32m    208\u001b[0m         \u001b[0mblock_values\u001b[0m \u001b[0;34m=\u001b[0m \u001b[0;34m[\u001b[0m\u001b[0mvalues\u001b[0m\u001b[0;34m]\u001b[0m\u001b[0;34m\u001b[0m\u001b[0;34m\u001b[0m\u001b[0m\n\u001b[1;32m    209\u001b[0m \u001b[0;34m\u001b[0m\u001b[0m\n\u001b[0;32m--> 210\u001b[0;31m     \u001b[0;32mreturn\u001b[0m \u001b[0mcreate_block_manager_from_blocks\u001b[0m\u001b[0;34m(\u001b[0m\u001b[0mblock_values\u001b[0m\u001b[0;34m,\u001b[0m \u001b[0;34m[\u001b[0m\u001b[0mcolumns\u001b[0m\u001b[0;34m,\u001b[0m \u001b[0mindex\u001b[0m\u001b[0;34m]\u001b[0m\u001b[0;34m)\u001b[0m\u001b[0;34m\u001b[0m\u001b[0;34m\u001b[0m\u001b[0m\n\u001b[0m\u001b[1;32m    211\u001b[0m \u001b[0;34m\u001b[0m\u001b[0m\n\u001b[1;32m    212\u001b[0m \u001b[0;34m\u001b[0m\u001b[0m\n",
      "\u001b[0;32m~/Applications/anaconda3/lib/python3.7/site-packages/pandas/core/internals/managers.py\u001b[0m in \u001b[0;36mcreate_block_manager_from_blocks\u001b[0;34m(blocks, axes)\u001b[0m\n\u001b[1;32m   1662\u001b[0m         \u001b[0mblocks\u001b[0m \u001b[0;34m=\u001b[0m \u001b[0;34m[\u001b[0m\u001b[0mgetattr\u001b[0m\u001b[0;34m(\u001b[0m\u001b[0mb\u001b[0m\u001b[0;34m,\u001b[0m \u001b[0;34m\"values\"\u001b[0m\u001b[0;34m,\u001b[0m \u001b[0mb\u001b[0m\u001b[0;34m)\u001b[0m \u001b[0;32mfor\u001b[0m \u001b[0mb\u001b[0m \u001b[0;32min\u001b[0m \u001b[0mblocks\u001b[0m\u001b[0;34m]\u001b[0m\u001b[0;34m\u001b[0m\u001b[0;34m\u001b[0m\u001b[0m\n\u001b[1;32m   1663\u001b[0m         \u001b[0mtot_items\u001b[0m \u001b[0;34m=\u001b[0m \u001b[0msum\u001b[0m\u001b[0;34m(\u001b[0m\u001b[0mb\u001b[0m\u001b[0;34m.\u001b[0m\u001b[0mshape\u001b[0m\u001b[0;34m[\u001b[0m\u001b[0;36m0\u001b[0m\u001b[0;34m]\u001b[0m \u001b[0;32mfor\u001b[0m \u001b[0mb\u001b[0m \u001b[0;32min\u001b[0m \u001b[0mblocks\u001b[0m\u001b[0;34m)\u001b[0m\u001b[0;34m\u001b[0m\u001b[0;34m\u001b[0m\u001b[0m\n\u001b[0;32m-> 1664\u001b[0;31m         \u001b[0mconstruction_error\u001b[0m\u001b[0;34m(\u001b[0m\u001b[0mtot_items\u001b[0m\u001b[0;34m,\u001b[0m \u001b[0mblocks\u001b[0m\u001b[0;34m[\u001b[0m\u001b[0;36m0\u001b[0m\u001b[0;34m]\u001b[0m\u001b[0;34m.\u001b[0m\u001b[0mshape\u001b[0m\u001b[0;34m[\u001b[0m\u001b[0;36m1\u001b[0m\u001b[0;34m:\u001b[0m\u001b[0;34m]\u001b[0m\u001b[0;34m,\u001b[0m \u001b[0maxes\u001b[0m\u001b[0;34m,\u001b[0m \u001b[0me\u001b[0m\u001b[0;34m)\u001b[0m\u001b[0;34m\u001b[0m\u001b[0;34m\u001b[0m\u001b[0m\n\u001b[0m\u001b[1;32m   1665\u001b[0m \u001b[0;34m\u001b[0m\u001b[0m\n\u001b[1;32m   1666\u001b[0m \u001b[0;34m\u001b[0m\u001b[0m\n",
      "\u001b[0;32m~/Applications/anaconda3/lib/python3.7/site-packages/pandas/core/internals/managers.py\u001b[0m in \u001b[0;36mconstruction_error\u001b[0;34m(tot_items, block_shape, axes, e)\u001b[0m\n\u001b[1;32m   1692\u001b[0m     \u001b[0;32mif\u001b[0m \u001b[0mblock_shape\u001b[0m\u001b[0;34m[\u001b[0m\u001b[0;36m0\u001b[0m\u001b[0;34m]\u001b[0m \u001b[0;34m==\u001b[0m \u001b[0;36m0\u001b[0m\u001b[0;34m:\u001b[0m\u001b[0;34m\u001b[0m\u001b[0;34m\u001b[0m\u001b[0m\n\u001b[1;32m   1693\u001b[0m         \u001b[0;32mraise\u001b[0m \u001b[0mValueError\u001b[0m\u001b[0;34m(\u001b[0m\u001b[0;34m\"Empty data passed with indices specified.\"\u001b[0m\u001b[0;34m)\u001b[0m\u001b[0;34m\u001b[0m\u001b[0;34m\u001b[0m\u001b[0m\n\u001b[0;32m-> 1694\u001b[0;31m     \u001b[0;32mraise\u001b[0m \u001b[0mValueError\u001b[0m\u001b[0;34m(\u001b[0m\u001b[0;34mf\"Shape of passed values is {passed}, indices imply {implied}\"\u001b[0m\u001b[0;34m)\u001b[0m\u001b[0;34m\u001b[0m\u001b[0;34m\u001b[0m\u001b[0m\n\u001b[0m\u001b[1;32m   1695\u001b[0m \u001b[0;34m\u001b[0m\u001b[0m\n\u001b[1;32m   1696\u001b[0m \u001b[0;34m\u001b[0m\u001b[0m\n",
      "\u001b[0;31mValueError\u001b[0m: Shape of passed values is (500, 20), indices imply (500, 10)"
     ]
    }
   ],
   "source": [
    "N = 200  # number of individual birds\n",
    "L = 15   # size of the container(L*L)\n",
    "v0 = 0.5  # the constant velocity of the birds per time step\n",
    "R = 1 # radius within which to search for neighbours\n",
    "T = 500  # total time steps\n",
    "\n",
    "\n",
    "def cal_n_sigma(L,N,T,sigma):\n",
    "    Noise_generator = stats.norm(0,sigma)\n",
    "    opara = np.zeros(T) # the Vicsek order parame\n",
    "    state = initialize(L,N)\n",
    "    for t in range(T):\n",
    "        eta = Noise_generator.rvs(N) # noise term\n",
    "        state = update(state, L, N, v0, R, eta)\n",
    "        opara[t] = order_para(state,N)\n",
    "    return opara\n",
    "\n",
    "d_sigma = 20\n",
    "res = np.zeros((T,d_sigma))\n",
    "i = 0\n",
    "for sigma in np.linspace(0,0.6,d_sigma):\n",
    "    opara = cal_n_sigma(L,N,T,sigma)\n",
    "    res[:,i] = opara\n",
    "    i += 1\n",
    "\n",
    "import pandas as pd\n",
    "df = pd.DataFrame(data=res,index=[i+1 for i in range(res.shape[0])],columns=[str(sigma) for sigma in np.linspace(0,0.6,d_sigma)])\n",
    "df.to_csv('n_sigma.csv')"
   ]
  },
  {
   "cell_type": "code",
   "execution_count": 14,
   "metadata": {},
   "outputs": [
    {
     "name": "stdout",
     "output_type": "stream",
     "text": [
      "[0.         0.         0.         0.         0.         0.12753764\n",
      " 0.14379725 0.18204908 0.23459698 0.27819515 0.13606892 0.20660099\n",
      " 0.2031974  0.1832362  0.17668166 0.28004159 0.38769008 0.4813759\n",
      " 0.50783658 0.53436205 0.27678864 0.33316209 0.37061091 0.3918586\n",
      " 0.38942318 0.19923368 0.28865708 0.33812192 0.46775408 0.56982106\n",
      " 0.13191373 0.1621625  0.22933747 0.27658284 0.38611522 0.05205045\n",
      " 0.06843761 0.06204247 0.12205855 0.1421114  0.12032186 0.15386141\n",
      " 0.22199837 0.24719546 0.28584717 0.17450111 0.19569817 0.2633973\n",
      " 0.2496662  0.28022688 0.21063906 0.23321774 0.29334721 0.31022462\n",
      " 0.35321369]\n"
     ]
    }
   ],
   "source": [
    "print(res)"
   ]
  },
  {
   "cell_type": "code",
   "execution_count": 18,
   "metadata": {},
   "outputs": [],
   "source": [
    "import pandas as pd\n",
    "df = pd.DataFrame(data=res,index=[i+1 for i in range(res.shape[0])],columns=[str(sigma) for sigma in np.linspace(0,0.6,d_sigma)])\n",
    "df.to_csv('n_sigma.csv')"
   ]
  },
  {
   "cell_type": "code",
   "execution_count": null,
   "metadata": {},
   "outputs": [],
   "source": []
  },
  {
   "cell_type": "code",
   "execution_count": null,
   "metadata": {},
   "outputs": [],
   "source": []
  }
 ],
 "metadata": {
  "kernelspec": {
   "display_name": "Python 3",
   "language": "python",
   "name": "python3"
  },
  "language_info": {
   "codemirror_mode": {
    "name": "ipython",
    "version": 3
   },
   "file_extension": ".py",
   "mimetype": "text/x-python",
   "name": "python",
   "nbconvert_exporter": "python",
   "pygments_lexer": "ipython3",
   "version": "3.7.4"
  }
 },
 "nbformat": 4,
 "nbformat_minor": 2
}
