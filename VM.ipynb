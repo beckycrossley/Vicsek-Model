{
 "cells": [
  {
   "cell_type": "markdown",
   "metadata": {},
   "source": [
    "# Vicsek Model: Visualisations\n",
    "#### Becky Crossley, Yulin Zhang, Shancheng Wang, Katy Fellingham"
   ]
  },
  {
   "cell_type": "markdown",
   "metadata": {},
   "source": [
    "In this document, we produce various plots to visualise the results of the Vicsek Model. In order to do this, we need to import various libraries to help with plotting and maths. We also import 2 libraries we made ourselves, these are 'file_utility' and 'vicsek_model_lib'. The first of which contains the functions we require in order to save pictures and make videos. Alternatively, 'vicsek_model_lib' contains functions which define this model, and functions which help us analyse its results. "
   ]
  },
  {
   "cell_type": "code",
   "execution_count": 1,
   "metadata": {},
   "outputs": [],
   "source": [
    "import matplotlib.pyplot as plt\n",
    "plt.style.use('ggplot')\n",
    "import numpy as np\n",
    "import pandas as pd\n",
    "import file_utility as FU\n",
    "import vicsek_model_lib as VM_lib"
   ]
  },
  {
   "cell_type": "markdown",
   "metadata": {},
   "source": [
    "# Part 1"
   ]
  },
  {
   "cell_type": "markdown",
   "metadata": {},
   "source": [
    "Here we create a visualisation of our birds using uniformly random positions and uniformly random initial orientations in a 15x15 container. See section 2.2 of attached \"The Vicsek Model\" for the derivation of our boundary conditions. "
   ]
  },
  {
   "cell_type": "code",
   "execution_count": null,
   "metadata": {},
   "outputs": [],
   "source": [
    "L = 15\n",
    "N = 200\n",
    "state = VM_lib.initialize(L,N)\n",
    "plt.figure()\n",
    "plt.quiver(state[:,0],state[:,1],np.cos(state[:,2]),np.sin(state[:,2]),np.arange(len(state))) \n",
    "plt.xlim(0,15)\n",
    "plt.ylim(0,15)\n",
    "plt.xlabel('x')\n",
    "plt.ylabel('y')\n",
    "plt.show()"
   ]
  },
  {
   "cell_type": "markdown",
   "metadata": {},
   "source": [
    "# Part 2"
   ]
  },
  {
   "cell_type": "markdown",
   "metadata": {},
   "source": [
    "Here we determine the distances between all the birds, so we can use this to determine which are nearer than R. See section 2.2 for calculating the distance between birds. Function cal_pdist in vicsek_model_lib computes this."
   ]
  },
  {
   "cell_type": "code",
   "execution_count": 3,
   "metadata": {},
   "outputs": [
    {
     "name": "stdout",
     "output_type": "stream",
     "text": [
      "[[0.         5.16073549 3.76461069 ... 6.61698194 7.3258807  6.4089564 ]\n",
      " [5.16073549 0.         7.37510709 ... 2.50561897 2.88413703 2.3934341 ]\n",
      " [3.76461069 7.37510709 0.         ... 5.37881045 4.68705439 8.27408499]\n",
      " ...\n",
      " [6.61698194 2.50561897 5.37881045 ... 0.         0.76058451 4.51787976]\n",
      " [7.3258807  2.88413703 4.68705439 ... 0.76058451 0.         4.58593782]\n",
      " [6.4089564  2.3934341  8.27408499 ... 4.51787976 4.58593782 0.        ]]\n"
     ]
    }
   ],
   "source": [
    "A = VM_lib.cal_pdist(state[:,:2],L)\n",
    "print(A)"
   ]
  },
  {
   "cell_type": "markdown",
   "metadata": {},
   "source": [
    "As expected, the elements of the matrix on the diagonal are all 0, as this is the distance between bird i and itself."
   ]
  },
  {
   "cell_type": "markdown",
   "metadata": {},
   "source": [
    "# Part 3"
   ]
  },
  {
   "cell_type": "markdown",
   "metadata": {},
   "source": [
    "Now we are going to run our system for a long time, we choose T = 10,000 steps. For each time step, we also compute and record the Vicsek order parameter and plot this as a function of time. See section 2.1 for the mathematical description of the model, which is used to write the function update in vicsek_model_lib, and section 2.3 for the derivation of the burn-in function, which is required to calculate the Vicsek order parameter."
   ]
  },
  {
   "cell_type": "code",
   "execution_count": null,
   "metadata": {
    "scrolled": false
   },
   "outputs": [],
   "source": [
    "N = 200  # number of individual birds\n",
    "L = 15   # size of the container(L*L)\n",
    "v0 = 0.5  # the constant velocity of the birds per time step\n",
    "R = 1 # radius within which to search for neighbours\n",
    "sigma = 0.01  # std of noise\n",
    "T = 10000  # total time steps\n",
    "opara = np.zeros(T) # the Vicsek order parameter\n",
    "fig_time = np.arange(0,400,25)\n",
    "\n",
    "state = VM_lib.initialize(L,N)\n",
    "for t in range(T):\n",
    "    state,opara[t] = VM_lib.update_wop(state, L, v0, R, sigma)\n",
    "    #representative plots\n",
    "    if t in fig_time:\n",
    "        plt.figure()\n",
    "        plt.quiver(state[:,0],state[:,1],np.cos(state[:,2]),np.sin(state[:,2]),np.arange(N)) \n",
    "        plt.xlim(0,15)\n",
    "        plt.ylim(0,15)\n",
    "        plt.xlabel('x')\n",
    "        plt.ylabel('y')\n",
    "        plt.show()\n",
    "\n",
    "plt.figure(figsize=(3,5))\n",
    "plt.plot(np.arange(T),opara,'b')   \n",
    "plt.xlabel('t')\n",
    "plt.ylabel(r'$n(\\sigma=0.01,t)$')\n",
    "plt.show()"
   ]
  },
  {
   "cell_type": "markdown",
   "metadata": {},
   "source": [
    "We can see that the birds swarm together very quickly in time. When we look at the plot of $n(\\sigma)$ against $t$, then we can see it plateau's by $t=1000$. "
   ]
  },
  {
   "cell_type": "markdown",
   "metadata": {},
   "source": [
    "We look at values of time less than 1000 so that we can understand the behaviour more closely. "
   ]
  },
  {
   "cell_type": "code",
   "execution_count": null,
   "metadata": {},
   "outputs": [],
   "source": [
    "state = VM_lib.initialize(L,N)\n",
    "for t in range(1000):\n",
    "    state,opara[t] = VM_lib.update_wop(state, L, v0, R, sigma)\n",
    "plt.figure(figsize=(3,5))\n",
    "plt.plot(np.arange(T),opara,'b')   \n",
    "plt.xlabel('t')\n",
    "plt.ylabel(r'$n(\\sigma=0.01,t)$')\n",
    "plt.show()"
   ]
  },
  {
   "cell_type": "markdown",
   "metadata": {},
   "source": [
    "# Part 4"
   ]
  },
  {
   "cell_type": "markdown",
   "metadata": {},
   "source": [
    "We now want to run our model for $t=1000$ and $\\sigma=0.01$ and produce a movie to visualise flocking. \n",
    "Firstly, in order to do this, we write a function which encompasses our functions for defining each time step, and how to make a movie, so you only call one line and a video output is produced and saved."
   ]
  },
  {
   "cell_type": "code",
   "execution_count": 5,
   "metadata": {},
   "outputs": [],
   "source": [
    "def visualize_simulation(N,L,v0,R,T,sigma,video_fps):\n",
    "    \"\"\"Make movies of the flocking simulation with different values of sigma.\n",
    "    \n",
    "    Parameters\n",
    "    ----------\n",
    "    N: int\n",
    "        Number of individual birds\n",
    "    L: float\n",
    "        Size of the container(L*L)\n",
    "    v0: float\n",
    "        The constant velocity of the brids per time step\n",
    "    R: float\n",
    "        Radius within which for preys to search for neighbours\n",
    "    T: int\n",
    "        The total time steps of the simulation\n",
    "    sigma: float\n",
    "        Standard deviation of noise\n",
    "    video_fps: int\n",
    "        Frames per second of the video\n",
    "    \"\"\"\n",
    "    # create folder to store the generated videos\n",
    "    video_path = './Q4/Videos/'\n",
    "    FU.createFolder(video_path)\n",
    "    # create folder to store the generated pictures for different values of sigma\n",
    "    pics_path = './Q4/VideoPics/sigma_{}/'.format(sigma)\n",
    "    FU.createFolder(pics_path)\n",
    "\n",
    "    state = VM_lib.initialize(L,N)\n",
    "    for t in range(T):\n",
    "        state, opara = VM_lib.update_wop(state, L, v0, R, sigma)\n",
    "        fig = plt.figure()\n",
    "        ax = plt.subplot(111)\n",
    "        ax.quiver(state[:,0],state[:,1],np.cos(state[:,2]),np.sin(state[:,2]),np.arange(N)) \n",
    "        ax.set_xlim(0,15)\n",
    "        ax.set_ylim(0,15)\n",
    "        fig.savefig(pics_path+'{}.png'.format(t))\n",
    "        plt.close(fig)\n",
    "    \n",
    "    video_name = 'sigma_{}'.format(sigma)\n",
    "    FU.makeVideo(pics_path,video_path,video_name,video_fps,T)"
   ]
  },
  {
   "cell_type": "code",
   "execution_count": 6,
   "metadata": {},
   "outputs": [],
   "source": [
    "N = 200  # number of individual birds\n",
    "L = 15   # size of the container(L*L)\n",
    "v0 = 0.5  # the constant velocity of the birds per time step\n",
    "R = 1 # radius within which to search for neighbours\n",
    "T = 1000  # total time steps\n",
    "video_fps = 12  # fps of the video\n",
    "\n",
    "## Change the value of sigma for different simulations ##\n",
    "sigma = 0.01  # std of noise\n",
    "visualize_simulation(N,L,v0,R,T,sigma,video_fps)"
   ]
  },
  {
   "cell_type": "markdown",
   "metadata": {},
   "source": [
    "# Part 5"
   ]
  },
  {
   "cell_type": "markdown",
   "metadata": {},
   "source": [
    "We are now going to compute the $n(\\sigma)$ phase transition plot. We do this by runnning $n$ traces and saving them in a csv ﬁle for each run of the system. Then we compute the average $n$ as a function of $\\sigma$. Read section 2.3 regarding the burn-in function required to do this."
   ]
  },
  {
   "cell_type": "code",
   "execution_count": 7,
   "metadata": {},
   "outputs": [],
   "source": [
    "def cal_n_sigma(N,L,v0,R,T,sigma_array):\n",
    "    \"\"\"Save traces of the vicsek model parameter for the flocking simulation with different values of sigma in a csv file.\n",
    "    \n",
    "    Parameters\n",
    "    ----------\n",
    "    N: int\n",
    "        Number of individual birds\n",
    "    L: float\n",
    "        Size of the container(L*L)\n",
    "    v0: float\n",
    "        The constant velocity of the brids per time step\n",
    "    R: float\n",
    "        Radius within which for preys to search for neighbours\n",
    "    T: int\n",
    "        The total time steps of the simulation\n",
    "    sigma_array: ndarray\n",
    "        Different values of standard deviation of noise term\n",
    "    \"\"\"\n",
    "    FU.createFolder('./Q5/')\n",
    "    res = np.zeros((T,len(sigma_array)))\n",
    "    for j in range(len(sigma_array)):\n",
    "        sigma = sigma_array[j]\n",
    "        state = VM_lib.initialize(L,N)\n",
    "        for t in range(T):\n",
    "            state,res[t,j] = VM_lib.update_wop(state,L,v0,R,sigma)\n",
    "    \n",
    "    df = pd.DataFrame(data=res,index=[i+1 for i in range(res.shape[0])],columns=[str(sigma) for sigma in sigma_array])\n",
    "    df.to_csv('./Q5/n_sigma.csv')"
   ]
  },
  {
   "cell_type": "code",
   "execution_count": null,
   "metadata": {},
   "outputs": [],
   "source": [
    "N = 200  # number of individual birds\n",
    "L = 15   # size of the container(L*L)\n",
    "v0 = 0.5  # the constant velocity of the birds per time step\n",
    "R = 1 # radius within which to search for neighbours\n",
    "T = 10000  # total time steps\n",
    "\n",
    "## change the value of sigma_array ##\n",
    "sigma_array = np.linspace(0,2,50)\n",
    "\n",
    "cal_n_sigma(N,L,v0,R,T,sigma_array)"
   ]
  },
  {
   "cell_type": "code",
   "execution_count": null,
   "metadata": {},
   "outputs": [],
   "source": [
    "df = pd.read_csv('./Q5/n_sigma.csv') \n",
    "opara = df.to_numpy()[:,1:]\n",
    "sigma_array = df.columns[1:].to_numpy(dtype=np.float)\n",
    "t = VM_lib.burn_in(L,N,v0,R)  # we calculate the longest burn in time before the system to reach steady state\n",
    "error_bar_mean = np.mean(opara[t:,:])\n",
    "error_bar_std = np.std(opara[t:,:])\n",
    "\n",
    "fig, ax = plt.subplots()\n",
    "ax.errorbar(sigma_array, error_bar_mean,yerr=error_bar_std,fmt='-o')\n",
    "\n",
    "ax.set_xlabel(r'$\\sigma$')\n",
    "ax.set_ylabel(r'error bar of $n(\\sigma)$')\n",
    "ax.set_title('Line plot with error bars')\n",
    "\n",
    "plt.show()"
   ]
  },
  {
   "cell_type": "code",
   "execution_count": null,
   "metadata": {},
   "outputs": [],
   "source": [
    "for j in len(sigma_array):\n",
    "    plt.figure(figsize=(3,5))\n",
    "    plt.plot(np.arange(len(opara)),res[t:,j],'b')    \n",
    "    plt.xlabel('time steps')\n",
    "    plt.ylabel('order parameter of sigma: '+str(sigma))\n",
    "    plt.ylim(0,1.1)\n",
    "    plt.show()"
   ]
  },
  {
   "cell_type": "markdown",
   "metadata": {},
   "source": [
    "# Part 6"
   ]
  },
  {
   "cell_type": "markdown",
   "metadata": {},
   "source": [
    "Again, we write a function we can call upon in order to produce a video representing potential bird swarming. This time, we are looking at the situation when there are predators present. See section 3 of \"The Vicsek Model\" for our derivation of the model with predators present."
   ]
  },
  {
   "cell_type": "code",
   "execution_count": null,
   "metadata": {},
   "outputs": [],
   "source": [
    "def visualize_simulation_pred(N,M,L,v0,v_predator,R,R_predator,R_run_away,T,sigma_prey,sigma_predator,video_fps):\n",
    "    \"\"\"Make movies of the flocking simulation with the existence of predators.\n",
    "    \n",
    "    Parameters\n",
    "    ----------\n",
    "    N: int\n",
    "        Number of preys\n",
    "    M: int\n",
    "        Number of predators\n",
    "    L: float\n",
    "        Size of the container(L*L)\n",
    "    v0: float\n",
    "        The constant velocity of the preys per time step\n",
    "    v_predator: float   \n",
    "        The constant velocity of the preditor per time step\n",
    "    R: float\n",
    "        Radius within which for preys to search for neighbours\n",
    "    R_predator: float\n",
    "        Radius within which to catch the preys\n",
    "    R_run_away: float\n",
    "        Radius within which the prey spot the predator and try to run away\n",
    "    T: int\n",
    "        The total time steps of the simulation\n",
    "    sigma_prey: float\n",
    "        Standard deviation of noise of preys\n",
    "    sigma_predator: float\n",
    "        Standard deviation of noise of predators\n",
    "    video_fps: int\n",
    "        Frames per second of the video\n",
    "    \"\"\"\n",
    "    opara = np.zeros(T) # the Vicsek order parameter\n",
    "    # create folder to store the generated videos\n",
    "    video_path = './Q6/Videos/'\n",
    "    FU.createFolder(video_path)\n",
    "    # create folder to store the generated pictures for different values of parameter\n",
    "    pics_path = './Q6/VideoPics/v_predator_{}R_predator_{}/'.format(v_predator,R_predator)\n",
    "    FU.createFolder(pics_path)\n",
    "    prey, predator = VM_lib.initialize(L,N,M)\n",
    "    for t in range(T):\n",
    "        prey, predator, opara[t] = VM_lib.update_pred(prey, predator, L, v0, v_predator, R, R_predator, R_run_away, sigma_prey, sigma_predator)\n",
    "        fig = plt.figure()\n",
    "        ax = plt.subplot(111)\n",
    "        ax.quiver(prey[:,0],prey[:,1],np.cos(prey[:,2]),np.sin(prey[:,2]),color='k') \n",
    "        ax.quiver(predator[:,0],predator[:,1],np.cos(predator[:,2]),np.sin(predator[:,2]),color='r')\n",
    "        ax.set_xlim(0,15)\n",
    "        ax.set_ylim(0,15)\n",
    "        fig.savefig(pics_path+'{}.png'.format(t))\n",
    "        plt.close(fig)\n",
    "\n",
    "    video_name = 'v_predator_{}R_predator_{}'.format(v_predator,R_predator)\n",
    "    FU.makeVideo(pics_path,video_path,video_name,video_fps,T)"
   ]
  },
  {
   "cell_type": "code",
   "execution_count": null,
   "metadata": {},
   "outputs": [],
   "source": [
    "N = 200  # number of preys\n",
    "M = 3  # number of predators\n",
    "L = 15   # size of the container(L*L)\n",
    "v0 = 0.5  # the constant velocity of the preys per time step\n",
    "v_predator = 0.7 # the constant velocity of the preditor per time step\n",
    "R = 1 # radius within which to search for neighbours\n",
    "R_predator = 3.5 # radius within which to catch the preys\n",
    "R_run_away = 3.5 # radius within which the prey spot the predator and try to run away\n",
    "sigma_prey = 0.01  # std of noise term of preys\n",
    "sigma_predator = 0.01  # std of noise term of predators\n",
    "T = 300  # total time steps\n",
    "video_fps = 7  # fps of the video\n",
    "\n",
    "visualize_simulation_pred(N,M,L,v0,v_predator,R,R_predator,R_run_away,T,sigma_prey,sigma_predator,video_fps)\n",
    "\n"
   ]
  },
  {
   "cell_type": "code",
   "execution_count": null,
   "metadata": {},
   "outputs": [],
   "source": []
  }
 ],
 "metadata": {
  "kernelspec": {
   "display_name": "Python 3",
   "language": "python",
   "name": "python3"
  },
  "language_info": {
   "codemirror_mode": {
    "name": "ipython",
    "version": 3
   },
   "file_extension": ".py",
   "mimetype": "text/x-python",
   "name": "python",
   "nbconvert_exporter": "python",
   "pygments_lexer": "ipython3",
   "version": "3.7.4"
  }
 },
 "nbformat": 4,
 "nbformat_minor": 2
}
